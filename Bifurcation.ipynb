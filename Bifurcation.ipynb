{
 "cells": [
  {
   "cell_type": "markdown",
   "metadata": {},
   "source": [
    "The following generates a gif displaying the normal form of a pitchfork bifurcation. The normal form can be thought of the simplest version of a vector field whose solution captures the desired behavior. Other vector fields containing pitchfork bifurcation behavior can be locally transformed to the normal form.\n"
   ]
  },
  {
   "cell_type": "code",
   "execution_count": 1,
   "metadata": {},
   "outputs": [],
   "source": [
    "import numpy as np\n",
    "import matplotlib.pyplot as plt\n",
    "from scipy.integrate import odeint\n",
    "import imageio\n",
    "import os\n",
    "import matplotlib.style as style\n",
    "style.use('ggplot')\n",
    "filenames = []\n",
    "R=np.arange(-1,3,.05)\n",
    "for i in range(R.size):#Loops over values of the parameter\n",
    "    # plot the line chart\n",
    "    r=R[i]\n",
    "    def f(state,t):#Defines the vector field x-dot.\n",
    "        x = state\n",
    "        return r*x-x**3\n",
    "        #r*x+ for subcritical r*x- for supercritical, subcritical needs work.\n",
    "    a = np.arange(-1.2,1.2,.05)\n",
    "    t = np.arange(0,2,.01)\n",
    "    for j in a: #Loops over initial conditions\n",
    "        state0=[j]\n",
    "        states=odeint(f,state0,t)#integrator \n",
    "        plt.figure(i)\n",
    "        plt.xlim(0,2)\n",
    "        plt.ylim(-3,3)\n",
    "        plt.plot(t,states[:,0])\n",
    "    \n",
    "    # create file name and append it to a list\n",
    "    filename = f'{i}.png'\n",
    "    #print(filename)\n",
    "    filenames.append(filename)\n",
    "    \n",
    "    # save frame\n",
    "    plt.savefig(filename)\n",
    "    plt.xlabel('t')\n",
    "    plt.ylabel('x')\n",
    "    plt.title('Pitchfork Bifurcation')\n",
    "    plt.close()\n",
    "# build gif\n",
    "with imageio.get_writer('pitchfork2.gif', mode='I') as writer:\n",
    "    for filename in filenames:\n",
    "        image = imageio.imread(filename)\n",
    "        writer.append_data(image)\n",
    "        \n",
    "# Remove png files\n",
    "for filename in set(filenames):\n",
    "    os.remove(filename)"
   ]
  },
  {
   "cell_type": "markdown",
   "metadata": {},
   "source": [
    "![SegmentLocal](pitchfork2.gif \"segment\")"
   ]
  },
  {
   "cell_type": "markdown",
   "metadata": {},
   "source": [
    "The above is given by generating solution curves to the vector field\n",
    "$$\\dot{x}=rx-x^3$$\n",
    "we have \\begin{array}\n",
    "arx-x^3=0\\\\\n",
    "-x(x^2-r)=0\n",
    "\\end{array}\n",
    "so the equilibria of the ode are at $x=0,$ and $x=\\pm\\sqrt{r}.$\n",
    "the values of r in the animation range over the interval $[-1,3]$, and when they change from negative to positive sign, the values $\\pm\\sqrt{r}$ change from imaginary to real, and the number of real equilibria changes from 1 to 3 smoothly.\n"
   ]
  }
 ],
 "metadata": {
  "kernelspec": {
   "display_name": "Python 3",
   "language": "python",
   "name": "python3"
  },
  "language_info": {
   "codemirror_mode": {
    "name": "ipython",
    "version": 3
   },
   "file_extension": ".py",
   "mimetype": "text/x-python",
   "name": "python",
   "nbconvert_exporter": "python",
   "pygments_lexer": "ipython3",
   "version": "3.7.0"
  }
 },
 "nbformat": 4,
 "nbformat_minor": 2
}
